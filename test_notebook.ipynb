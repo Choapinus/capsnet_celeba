{
 "cells": [
  {
   "cell_type": "code",
   "execution_count": 5,
   "metadata": {},
   "outputs": [],
   "source": [
    "from keras.datasets import mnist\n",
    "from keras.utils import to_categorical\n",
    "import numpy as np"
   ]
  },
  {
   "cell_type": "code",
   "execution_count": 6,
   "metadata": {},
   "outputs": [],
   "source": [
    "(x_train, y_train), (x_test, y_test) = mnist.load_data()"
   ]
  },
  {
   "cell_type": "code",
   "execution_count": 34,
   "metadata": {},
   "outputs": [
    {
     "data": {
      "text/plain": [
       "(60000, 10)"
      ]
     },
     "execution_count": 34,
     "metadata": {},
     "output_type": "execute_result"
    }
   ],
   "source": [
    "y_train.shape"
   ]
  },
  {
   "cell_type": "code",
   "execution_count": 8,
   "metadata": {},
   "outputs": [
    {
     "data": {
      "text/plain": [
       "array([0., 0., 0., 0., 0., 1., 0., 0., 0., 0.], dtype=float32)"
      ]
     },
     "execution_count": 8,
     "metadata": {},
     "output_type": "execute_result"
    }
   ],
   "source": [
    "to_categorical(y_train.astype('float32'))[0] # 5"
   ]
  },
  {
   "cell_type": "code",
   "execution_count": 9,
   "metadata": {},
   "outputs": [
    {
     "data": {
      "text/plain": [
       "(60000, 28, 28, 1)"
      ]
     },
     "execution_count": 9,
     "metadata": {},
     "output_type": "execute_result"
    }
   ],
   "source": [
    "x_train.reshape(-1, 28, 28, 1).shape"
   ]
  },
  {
   "cell_type": "code",
   "execution_count": 10,
   "metadata": {},
   "outputs": [],
   "source": [
    "x_train = x_train.reshape(-1, 28, 28, 1).astype('float32') / 255.\n",
    "x_test = x_test.reshape(-1, 28, 28, 1).astype('float32') / 255.\n",
    "y_train = to_categorical(y_train.astype('float32'))\n",
    "y_test = to_categorical(y_test.astype('float32'))"
   ]
  },
  {
   "cell_type": "code",
   "execution_count": 63,
   "metadata": {},
   "outputs": [
    {
     "name": "stdout",
     "output_type": "stream",
     "text": [
      "(20, 224, 224, 3)\n",
      "(20,)\n"
     ]
    }
   ],
   "source": [
    "import os\n",
    "from imutils import paths\n",
    "import random\n",
    "import cv2\n",
    "from keras.preprocessing.image import img_to_array\n",
    "from sklearn.model_selection import train_test_split\n",
    "\n",
    "data = []\n",
    "labels = []\n",
    "\n",
    "male_file, female_file = open('./male.txt', 'w'), open('./female.txt', 'w')\n",
    "male_im, female_im = [], []\n",
    "\n",
    "all_images = sorted(list(paths.list_images('../CNN/male_female_cnn/images/')))\n",
    "\n",
    "for image in all_images:\n",
    "    if image.split(os.path.sep)[-2] == 'male' and len(male_im) < 10:\n",
    "        male_im.append(image)\n",
    "        male_file.write(image+'\\n')\n",
    "    elif image.split(os.path.sep)[-2] == 'female' and len(female_im) < 10:\n",
    "        female_im.append(image)\n",
    "        female_file.write(image+'\\n')\n",
    "    else:\n",
    "        continue\n",
    "\n",
    "male_file.close()\n",
    "female_file.close()\n",
    "imagePaths = male_im + female_im\n",
    "\n",
    "random.seed(42)\n",
    "random.shuffle(imagePaths)\n",
    "\n",
    "for imagePath in imagePaths:\n",
    "    image = cv2.imread(imagePath)\n",
    "    image = cv2.resize(image, (224, 224))\n",
    "    image = img_to_array(image)\n",
    "    data.append(image)\n",
    "\n",
    "    label = imagePath.split(os.path.sep)[-2]\n",
    "    label = 1 if label == \"female\" else 0\n",
    "    labels.append(label)\n",
    "\n",
    "# scale the raw pixel intensities to the range [0, 1]\n",
    "data = np.array(data, dtype=\"float32\") / 255\n",
    "# data = data.reshape(-1, )\n",
    "labels = np.array(labels)\n",
    "\n",
    "print(data.shape)\n",
    "print(labels.shape)\n",
    "\n",
    "# partition the data into training and testing splits using 75% of\n",
    "# the data for training and the remaining 25% for testing\n",
    "(trainX, testX, trainY, testY) = train_test_split(data, labels, test_size=0.2, random_state=42)"
   ]
  },
  {
   "cell_type": "code",
   "execution_count": 49,
   "metadata": {
    "scrolled": true
   },
   "outputs": [
    {
     "name": "stdout",
     "output_type": "stream",
     "text": [
      "x_train.shape: (60000, 28, 28, 1)\n",
      "x_train[0].shape (28, 28, 1)\n",
      "y_train.shape (60000, 10)\n",
      "y_train[0].shape (10,) \n",
      "\n",
      "x_test.shape: (10000, 28, 28, 1)\n",
      "x_test[0].shape (28, 28, 1)\n",
      "y_test.shape (10000, 10)\n",
      "y_test[0].shape (10,)\n"
     ]
    }
   ],
   "source": [
    "print('x_train.shape:', x_train.shape)\n",
    "print('x_train[0].shape', x_train[0].shape)\n",
    "print('y_train.shape', y_train.shape)\n",
    "print('y_train[0].shape', y_train[0].shape, '\\n')\n",
    "\n",
    "print('x_test.shape:', x_test.shape)\n",
    "print('x_test[0].shape', x_test[0].shape)\n",
    "print('y_test.shape', y_test.shape)\n",
    "print('y_test[0].shape', y_test[0].shape)"
   ]
  },
  {
   "cell_type": "code",
   "execution_count": 51,
   "metadata": {},
   "outputs": [
    {
     "name": "stdout",
     "output_type": "stream",
     "text": [
      "trainX.shape: (16, 224, 224, 3)\n",
      "trainX[0].shape (224, 224, 3)\n",
      "trainY.shape (16,)\n",
      "trainY[0].shape () \n",
      "\n",
      "testX.shape: (4, 224, 224, 3)\n",
      "testX[0].shape (224, 224, 3)\n",
      "testY.shape (4,)\n",
      "testY[0].shape ()\n"
     ]
    }
   ],
   "source": [
    "print('trainX.shape:', trainX.shape)\n",
    "print('trainX[0].shape', trainX[0].shape)\n",
    "print('trainY.shape', trainY.shape)\n",
    "print('trainY[0].shape', trainY[0].shape, '\\n')\n",
    "\n",
    "print('testX.shape:', testX.shape)\n",
    "print('testX[0].shape', testX[0].shape)\n",
    "print('testY.shape', testY.shape)\n",
    "print('testY[0].shape', testY[0].shape)"
   ]
  },
  {
   "cell_type": "code",
   "execution_count": 53,
   "metadata": {},
   "outputs": [
    {
     "data": {
      "text/plain": [
       "(1, 16)"
      ]
     },
     "execution_count": 53,
     "metadata": {},
     "output_type": "execute_result"
    }
   ],
   "source": [
    "np.expand_dims(trainY, axis=0).shape"
   ]
  },
  {
   "cell_type": "code",
   "execution_count": 57,
   "metadata": {},
   "outputs": [
    {
     "data": {
      "text/plain": [
       "(16, 2)"
      ]
     },
     "execution_count": 57,
     "metadata": {},
     "output_type": "execute_result"
    }
   ],
   "source": [
    "to_categorical(trainY).shape"
   ]
  },
  {
   "cell_type": "code",
   "execution_count": 64,
   "metadata": {},
   "outputs": [
    {
     "data": {
      "text/plain": [
       "(20, 2)"
      ]
     },
     "execution_count": 64,
     "metadata": {},
     "output_type": "execute_result"
    }
   ],
   "source": [
    "to_categorical(np.array(labels)).shape"
   ]
  },
  {
   "cell_type": "code",
   "execution_count": null,
   "metadata": {},
   "outputs": [],
   "source": []
  }
 ],
 "metadata": {
  "kernelspec": {
   "display_name": "Python 3",
   "language": "python",
   "name": "python3"
  },
  "language_info": {
   "codemirror_mode": {
    "name": "ipython",
    "version": 3
   },
   "file_extension": ".py",
   "mimetype": "text/x-python",
   "name": "python",
   "nbconvert_exporter": "python",
   "pygments_lexer": "ipython3",
   "version": "3.6.6"
  }
 },
 "nbformat": 4,
 "nbformat_minor": 2
}
